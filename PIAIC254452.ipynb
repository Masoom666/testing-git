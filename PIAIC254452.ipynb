{
 "cells": [
  {
   "cell_type": "markdown",
   "metadata": {},
   "source": [
    "create a list called names and stored some names there,then print the names separately\n"
   ]
  },
  {
   "cell_type": "code",
   "execution_count": 3,
   "metadata": {},
   "outputs": [
    {
     "name": "stdout",
     "output_type": "stream",
     "text": [
      "ali\n",
      "hassan\n",
      "umar\n"
     ]
    }
   ],
   "source": [
    "names=[\"ali\",\"hassan\",\"umar\"]\n",
    "print (names[0])\n",
    "print (names[1])\n",
    "print (names[2])\n",
    "\n"
   ]
  },
  {
   "cell_type": "markdown",
   "metadata": {},
   "source": [
    "add some message for list called names one by one "
   ]
  },
  {
   "cell_type": "code",
   "execution_count": 4,
   "metadata": {},
   "outputs": [
    {
     "name": "stdout",
     "output_type": "stream",
     "text": [
      "hello,ali,you are my best friend!\n",
      "hello,hassan,you are very beautiful!\n",
      "hello,umar,you are very intelligent!\n"
     ]
    }
   ],
   "source": [
    "names=[\"ali\",\"hassan\",\"umar\"]\n",
    "print(f\"hello,{names[0]},you are my best friend!\")\n",
    "print(f\"hello,{names[1]},you are very beautiful!\")\n",
    "print(f\"hello,{names[2]},you are very intelligent!\")"
   ]
  },
  {
   "cell_type": "markdown",
   "metadata": {},
   "source": [
    "create a list and stores some modes of transportations,then print separately and add some message with there"
   ]
  },
  {
   "cell_type": "code",
   "execution_count": 3,
   "metadata": {},
   "outputs": [
    {
     "name": "stdout",
     "output_type": "stream",
     "text": [
      "I would like to own a honda bike\n",
      "My 2nd favorite motorcycle is road price motorcycle\n",
      "I doesnot like  united motorcycle\n"
     ]
    }
   ],
   "source": [
    "transportation=[\"honda bike\",\"road price motorcycle\",\"united motorcycle\"]\n",
    "print (f\"I would like to own a {transportation[0]}\")\n",
    "print (f\"My 2nd favorite motorcycle is {transportation[1]}\")\n",
    "print (f\"I doesnot like  {transportation[2]}\")"
   ]
  },
  {
   "cell_type": "markdown",
   "metadata": {},
   "source": [
    "create a list of some guests, then separately inviting them to eat food together,unfortunately 1 member was not coming for dinner . so i recall another ,add new guests my using insert oor append ,then again print the whole message and invite all the guests for dinner"
   ]
  },
  {
   "cell_type": "code",
   "execution_count": 5,
   "metadata": {},
   "outputs": [
    {
     "name": "stdout",
     "output_type": "stream",
     "text": [
      "ali! Its my honored to invite you for dinner\n",
      "Its my honored to invite  hassan\n",
      "dear umar!lets have a lunch together\n",
      "unfortunately,ali cannot come for dinner\n",
      "so muhammad can replace ali for dinner\n",
      "i have found a bigger dining table\n",
      "Its my honored to invite ['muhammad', 'haris', 'hassan', 'umar', 'babar'] for dinner\n"
     ]
    }
   ],
   "source": [
    "guests=[\"ali\",\"hassan\",\"umar\"]\n",
    "print(f'{guests[0]}! Its my honored to invite you for dinner')\n",
    "print(f'Its my honored to invite  {guests[1]}')\n",
    "print(f'dear {guests[2]}!lets have a lunch together')\n",
    "print(f'unfortunately,{guests[0]} cannot come for dinner')\n",
    "guests[0]=\"muhammad\"\n",
    "print(f'so {guests[0]} can replace ali for dinner')\n",
    "print(\"i have found a bigger dining table\")\n",
    "guests.insert(1,\"haris\")\n",
    "guests.append(\"babar\")\n",
    "print(f\"Its my honored to invite {guests} for dinner\")\n",
    "\n"
   ]
  },
  {
   "cell_type": "markdown",
   "metadata": {},
   "source": [
    "now i only invite two guests for dinner  ,i removing guest fom my list by using pop and send them a message  that i cannot invite them for dinner then msg last two guests that you are still invited,then remove those two by using del,and print "
   ]
  },
  {
   "cell_type": "code",
   "execution_count": 5,
   "metadata": {},
   "outputs": [
    {
     "name": "stdout",
     "output_type": "stream",
     "text": [
      "I can only invite two people for dinner.\n",
      "Sorry babar, I can't invite you to dinner.\n",
      "Sorry umar, I can't invite you to dinner.\n",
      "Sorry hassan, I can't invite you to dinner.\n",
      "muhammad, you're still invited to dinner!\n",
      "haris, you're still invited to dinner!\n",
      "Final guest list: []\n"
     ]
    }
   ],
   "source": [
    "guests = [\"muhammad\", \"haris\", \"hassan\", \"umar\", \"babar\"]\n",
    "print(\"I can only invite two people for dinner.\")\n",
    "while len(guests) > 2:\n",
    "    removed_guest = guests.pop()\n",
    "    print(f\"Sorry {removed_guest}, I can't invite you to dinner.\")\n",
    "for guest in guests:\n",
    "    print(f\"{guest}, you're still invited to dinner!\")\n",
    "del guests[0]\n",
    "del guests[0]\n",
    "print(\"Final guest list:\", guests)\n"
   ]
  },
  {
   "cell_type": "markdown",
   "metadata": {},
   "source": [
    "create a list of different locations ,print list in its original order then use sorted for alphabetical order,use sorted to change list in reverse alphabetical order ,use reverse to change the order of your list ,use sort to change the list in alphabetical order ,again use sort for reverse alphabetical order"
   ]
  },
  {
   "cell_type": "code",
   "execution_count": 6,
   "metadata": {},
   "outputs": [
    {
     "name": "stdout",
     "output_type": "stream",
     "text": [
      "Original list: ['Paris', 'New York', 'Tokyo', 'London', 'Sydney']\n",
      "Sorted list (alphabetical): ['London', 'New York', 'Paris', 'Sydney', 'Tokyo']\n",
      "Original list after sorted() without modification: ['Paris', 'New York', 'Tokyo', 'London', 'Sydney']\n",
      "Sorted list (reverse-alphabetical): ['Tokyo', 'Sydney', 'Paris', 'New York', 'London']\n",
      "Original list after reverse sorted() without modification: ['Paris', 'New York', 'Tokyo', 'London', 'Sydney']\n",
      "List after reverse(): ['Sydney', 'London', 'Tokyo', 'New York', 'Paris']\n",
      "List after reverse() again (back to original): ['Paris', 'New York', 'Tokyo', 'London', 'Sydney']\n",
      "List after sort() (alphabetical): ['London', 'New York', 'Paris', 'Sydney', 'Tokyo']\n",
      "List after sort() (reverse-alphabetical): ['Tokyo', 'Sydney', 'Paris', 'New York', 'London']\n"
     ]
    }
   ],
   "source": [
    "\n",
    "locations = [\"Paris\", \"New York\", \"Tokyo\", \"London\", \"Sydney\"]\n",
    "print(\"Original list:\", locations)\n",
    "print(\"Sorted list (alphabetical):\", sorted(locations))\n",
    "print(\"Original list after sorted() without modification:\", locations)\n",
    "print(\"Sorted list (reverse-alphabetical):\", sorted(locations, reverse=True))\n",
    "print(\"Original list after reverse sorted() without modification:\", locations)\n",
    "locations.reverse()\n",
    "print(\"List after reverse():\", locations)\n",
    "locations.reverse()\n",
    "print(\"List after reverse() again (back to original):\", locations)\n",
    "locations.sort()\n",
    "print(\"List after sort() (alphabetical):\", locations)\n",
    "locations.sort(reverse=True)\n",
    "print(\"List after sort() (reverse-alphabetical):\", locations)"
   ]
  },
  {
   "cell_type": "markdown",
   "metadata": {},
   "source": [
    "use len to find the length of the guests"
   ]
  },
  {
   "cell_type": "code",
   "execution_count": 7,
   "metadata": {},
   "outputs": [
    {
     "name": "stdout",
     "output_type": "stream",
     "text": [
      "0\n"
     ]
    }
   ],
   "source": [
    "print(len(guests))"
   ]
  },
  {
   "cell_type": "markdown",
   "metadata": {},
   "source": [
    "create a list of countries,print the numbers of the countries using len,print the list in its original order,use sorted to print the list in alphabetical order,again use sorted to print the list in reverse alphabetical order,use reverse to change the order of the list,then use sort to change the list in alphabetical order and in reverse alphabetical, use pop to remove a country,use insert to add a new country,use append to add a new country at last,use del to delete a country,"
   ]
  },
  {
   "cell_type": "code",
   "execution_count": 8,
   "metadata": {},
   "outputs": [
    {
     "name": "stdout",
     "output_type": "stream",
     "text": [
      "There are 7 countries in the list.\n",
      "Original list: ['Japan', 'France', 'Australia', 'India', 'Brazil', 'Germany', 'Canada']\n",
      "Sorted list (alphabetical): ['Australia', 'Brazil', 'Canada', 'France', 'Germany', 'India', 'Japan']\n",
      "Original list after sorted() without modification: ['Japan', 'France', 'Australia', 'India', 'Brazil', 'Germany', 'Canada']\n",
      "Sorted list (reverse-alphabetical): ['Japan', 'India', 'Germany', 'France', 'Canada', 'Brazil', 'Australia']\n",
      "Original list after reverse sorted() without modification: ['Japan', 'France', 'Australia', 'India', 'Brazil', 'Germany', 'Canada']\n",
      "List after reverse(): ['Canada', 'Germany', 'Brazil', 'India', 'Australia', 'France', 'Japan']\n",
      "List after reverse() again (back to original): ['Japan', 'France', 'Australia', 'India', 'Brazil', 'Germany', 'Canada']\n",
      "List after sort() (alphabetical): ['Australia', 'Brazil', 'Canada', 'France', 'Germany', 'India', 'Japan']\n",
      "List after sort() (reverse-alphabetical): ['Japan', 'India', 'Germany', 'France', 'Canada', 'Brazil', 'Australia']\n",
      "Popped country: Australia\n",
      "Popped country by index: Germany\n",
      "List after inserting a country at the beginning: ['South Korea', 'Japan', 'India', 'France', 'Canada', 'Brazil']\n",
      "List after appending a country: ['South Korea', 'Japan', 'India', 'France', 'Canada', 'Brazil', 'Mexico']\n",
      "List after using del: ['South Korea', 'Japan', 'India', 'Canada', 'Brazil', 'Mexico']\n",
      "List after clear(): []\n"
     ]
    }
   ],
   "source": [
    "\n",
    "countries = [\"Japan\", \"France\", \"Australia\", \"India\", \"Brazil\", \"Germany\", \"Canada\"]\n",
    "print(f\"There are {len(countries)} countries in the list.\")\n",
    "print(\"Original list:\", countries)\n",
    "print(\"Sorted list (alphabetical):\", sorted(countries))\n",
    "print(\"Original list after sorted() without modification:\", countries)\n",
    "print(\"Sorted list (reverse-alphabetical):\", sorted(countries, reverse=True))\n",
    "print(\"Original list after reverse sorted() without modification:\", countries)\n",
    "countries.reverse()\n",
    "print(\"List after reverse():\", countries)\n",
    "countries.reverse()\n",
    "print(\"List after reverse() again (back to original):\", countries)\n",
    "countries.sort()\n",
    "print(\"List after sort() (alphabetical):\", countries)\n",
    "countries.sort(reverse=True)\n",
    "print(\"List after sort() (reverse-alphabetical):\", countries)\n",
    "removed_country = countries.pop()\n",
    "print(f\"Popped country: {removed_country}\")\n",
    "removed_country = countries.pop(2) \n",
    "print(f\"Popped country by index: {removed_country}\")\n",
    "countries.insert(0, \"South Korea\")\n",
    "print(\"List after inserting a country at the beginning:\", countries)\n",
    "countries.append(\"Mexico\")\n",
    "print(\"List after appending a country:\", countries)\n",
    "del countries[3] \n",
    "print(\"List after using del:\", countries)\n",
    "countries.clear()\n",
    "print(\"List after clear():\", countries)\n"
   ]
  }
 ],
 "metadata": {
  "kernelspec": {
   "display_name": "Python 3",
   "language": "python",
   "name": "python3"
  },
  "language_info": {
   "codemirror_mode": {
    "name": "ipython",
    "version": 3
   },
   "file_extension": ".py",
   "mimetype": "text/x-python",
   "name": "python",
   "nbconvert_exporter": "python",
   "pygments_lexer": "ipython3",
   "version": "3.13.1"
  }
 },
 "nbformat": 4,
 "nbformat_minor": 2
}
